{
 "cells": [
  {
   "cell_type": "markdown",
   "id": "e4b4f653",
   "metadata": {},
   "source": [
    "## $$金融大数据分析 期末实验考查 $$"
   ]
  },
  {
   "cell_type": "markdown",
   "id": "0fc19976",
   "metadata": {},
   "source": [
    "交电子版，文件名称中的学号和姓名要填入，本文档文件名部分的\"学号姓名\"也要改为你的个人信息。"
   ]
  },
  {
   "cell_type": "markdown",
   "id": "7d2ff9ed",
   "metadata": {},
   "source": [
    "\n",
    "| | | | | | |\n",
    "|:-|-|:-|-|:-|-|\n",
    "|<font size=4>实验地点:|<font size=4>机房|<font size=4>实验日期:|<font size=4>2024-12-16|<font size=4>学院:|<font size=4>金融与投资学院|\n",
    "|<font size=4>学号:|<font size=4> xxx |<font size=4>姓名:|<font size=4> yyy  |<font size=4> 课时:  |<font size=4> 2  |\n"
   ]
  },
  {
   "cell_type": "markdown",
   "id": "a2a3b5e7",
   "metadata": {},
   "source": [
    "###　1.写出下列公式的Python表达式（5分）。"
   ]
  },
  {
   "cell_type": "markdown",
   "id": "14ef3b59",
   "metadata": {},
   "source": [
    "① $5 + (2 \\times 3)^3$"
   ]
  },
  {
   "cell_type": "code",
   "execution_count": null,
   "id": "94d07238",
   "metadata": {},
   "outputs": [],
   "source": []
  },
  {
   "cell_type": "markdown",
   "id": "44f1a301",
   "metadata": {},
   "source": [
    "② $\\sqrt[3]{a^3+b^3}$"
   ]
  },
  {
   "cell_type": "code",
   "execution_count": null,
   "id": "ab0f62c1",
   "metadata": {},
   "outputs": [],
   "source": [
    "a = 2; b = 3\n"
   ]
  },
  {
   "cell_type": "markdown",
   "id": "31a60b5c",
   "metadata": {},
   "source": [
    "③ $tan^2(b - a)$"
   ]
  },
  {
   "cell_type": "code",
   "execution_count": null,
   "id": "d7eb432e",
   "metadata": {},
   "outputs": [],
   "source": []
  },
  {
   "cell_type": "markdown",
   "id": "5b40c906",
   "metadata": {},
   "source": [
    "④ $\\log_{3} (9)$"
   ]
  },
  {
   "cell_type": "code",
   "execution_count": null,
   "id": "982f52e6",
   "metadata": {},
   "outputs": [],
   "source": []
  },
  {
   "cell_type": "markdown",
   "id": "b56eb0f9",
   "metadata": {},
   "source": [
    "⑤ $3e^{(a+b)}$"
   ]
  },
  {
   "cell_type": "code",
   "execution_count": null,
   "id": "a34ffbd2",
   "metadata": {},
   "outputs": [],
   "source": []
  },
  {
   "cell_type": "markdown",
   "id": "806263bf",
   "metadata": {},
   "source": [
    "### 2.根据球的半径计算球的面积和体积并输出（5分）。"
   ]
  },
  {
   "cell_type": "code",
   "execution_count": null,
   "id": "b53c028f",
   "metadata": {},
   "outputs": [],
   "source": [
    "import math           # 导入math模块\n",
    "r = 10               # 半径\n",
    "# 待补充\n"
   ]
  },
  {
   "cell_type": "markdown",
   "id": "be8dcd03",
   "metadata": {},
   "source": [
    "### 3.输出字符'A'-'Z'的十六进制ASCII码（2分）。"
   ]
  },
  {
   "cell_type": "code",
   "execution_count": null,
   "id": "86efdb77",
   "metadata": {},
   "outputs": [],
   "source": [
    "import string\n"
   ]
  },
  {
   "cell_type": "markdown",
   "id": "62f45a80",
   "metadata": {},
   "source": [
    "### 4.将下面的字符串s变为'AA+BB+CC+DD'(3分） 。"
   ]
  },
  {
   "cell_type": "code",
   "execution_count": null,
   "id": "a2d995e8",
   "metadata": {},
   "outputs": [],
   "source": [
    "s = 'AA\\t  BB   CC  \\t  DD\\n'\n"
   ]
  },
  {
   "cell_type": "markdown",
   "id": "45c76b79",
   "metadata": {},
   "source": [
    "### 5．导入math库， 使用其中的函数完成以下问题（5分）。"
   ]
  },
  {
   "cell_type": "code",
   "execution_count": null,
   "id": "5e3014b8",
   "metadata": {},
   "outputs": [],
   "source": [
    "# 输出e的自然对数, 10的以2为底的对数, 10的以10为底的常用对数\n"
   ]
  },
  {
   "cell_type": "code",
   "execution_count": null,
   "id": "a64f8cd4",
   "metadata": {},
   "outputs": [],
   "source": [
    "# 将角度30转为弧度，结果存在 rad 变量\n",
    "          "
   ]
  },
  {
   "cell_type": "code",
   "execution_count": null,
   "id": "05f70417",
   "metadata": {},
   "outputs": [],
   "source": [
    "# 将上题的rad 弧度又转为角度\n",
    "    "
   ]
  },
  {
   "cell_type": "code",
   "execution_count": null,
   "id": "6c7cafc2",
   "metadata": {},
   "outputs": [],
   "source": [
    "# 计算 rad 的正弦，保留2位小数，结果存于变量x\n"
   ]
  },
  {
   "cell_type": "code",
   "execution_count": null,
   "id": "a02300d9",
   "metadata": {},
   "outputs": [],
   "source": [
    "# 对上题的 x 求反正弦\n"
   ]
  },
  {
   "cell_type": "markdown",
   "id": "16c88f07",
   "metadata": {},
   "source": [
    "### 6．统计列表lst = [12,2,16,30,28,10,16,20,6,18,37,66,7,95,20,89]中元素的个数，找出最大值和最小值，计算平均值，并将lst列表按从大到小排序输出（5分）。"
   ]
  },
  {
   "cell_type": "code",
   "execution_count": null,
   "id": "27759ce9",
   "metadata": {},
   "outputs": [],
   "source": [
    "lst = [12,2,16,30,28,10,16,20,6,18,37,66,7,95,20,89]\n",
    "# 元素个数\n"
   ]
  },
  {
   "cell_type": "code",
   "execution_count": null,
   "id": "6c291f9f",
   "metadata": {},
   "outputs": [],
   "source": [
    "# 最大值\n"
   ]
  },
  {
   "cell_type": "code",
   "execution_count": null,
   "id": "f4c98d46",
   "metadata": {},
   "outputs": [],
   "source": [
    "# 最小值\n"
   ]
  },
  {
   "cell_type": "code",
   "execution_count": null,
   "id": "169edbd7",
   "metadata": {},
   "outputs": [],
   "source": [
    "# 计算平均值\n"
   ]
  },
  {
   "cell_type": "code",
   "execution_count": null,
   "id": "44a221fd",
   "metadata": {},
   "outputs": [],
   "source": [
    "# 列表按从大到小排序输出\n"
   ]
  },
  {
   "cell_type": "markdown",
   "id": "64f3dfe4",
   "metadata": {},
   "source": [
    "### 7．time库应用（5分）。  \n",
    "\n",
    "(1)测试将含有1千万个数的列表中的数均变为原来的2倍所需的耗时，要求测试5次取平均耗时（3分）。"
   ]
  },
  {
   "cell_type": "code",
   "execution_count": null,
   "id": "c32773e9",
   "metadata": {},
   "outputs": [],
   "source": [
    "import time\n",
    "lst = list(range(1000000))\n",
    "\n",
    "# 待补充\n"
   ]
  },
  {
   "cell_type": "markdown",
   "id": "1cc36669",
   "metadata": {},
   "source": [
    "(2)今天是本年的第几天？（2分）"
   ]
  },
  {
   "cell_type": "code",
   "execution_count": null,
   "id": "bd83ab55",
   "metadata": {},
   "outputs": [],
   "source": []
  },
  {
   "cell_type": "markdown",
   "id": "df7ad48f",
   "metadata": {},
   "source": [
    "### 8．datetime库应用（5分）。  \n",
    "\n",
    "(1)输入你的出生日期，判断是星期几？（2分）"
   ]
  },
  {
   "cell_type": "code",
   "execution_count": null,
   "id": "3cb0f507",
   "metadata": {},
   "outputs": [],
   "source": [
    "from datetime import datetime\n",
    "s = input('输入你的出生日期: 年-月-日')    # '2005-5-1'\n",
    "# 待补充\n"
   ]
  },
  {
   "cell_type": "markdown",
   "id": "6a606ae0",
   "metadata": {},
   "source": [
    "(2)你出生到现在一共过了多少天了？（2分）"
   ]
  },
  {
   "cell_type": "code",
   "execution_count": null,
   "id": "6b050e96",
   "metadata": {},
   "outputs": [],
   "source": []
  },
  {
   "cell_type": "markdown",
   "id": "1a27615f",
   "metadata": {},
   "source": [
    "(3)将你的生日变量birth分别按“年-月-日”格式输出。（1分）"
   ]
  },
  {
   "cell_type": "code",
   "execution_count": null,
   "id": "2fd78594",
   "metadata": {},
   "outputs": [],
   "source": []
  },
  {
   "cell_type": "markdown",
   "id": "c45a97d8",
   "metadata": {},
   "source": [
    "### 9．random随机库应用（5分）  \n",
    "\n",
    "(1) 设定随机种子为你的学号"
   ]
  },
  {
   "cell_type": "code",
   "execution_count": null,
   "id": "ec933ca1",
   "metadata": {},
   "outputs": [],
   "source": [
    "import random\n",
    "# 设定固定的种子，后续产生同样的随机数序列\n"
   ]
  },
  {
   "cell_type": "markdown",
   "id": "1f31c705",
   "metadata": {},
   "source": [
    "(2)产生含有[1,100]之间的200个随机整数的列表lst"
   ]
  },
  {
   "cell_type": "code",
   "execution_count": null,
   "id": "c8f859af",
   "metadata": {},
   "outputs": [],
   "source": []
  },
  {
   "cell_type": "markdown",
   "id": "f5f46531",
   "metadata": {},
   "source": [
    "(3)[1,100]之间哪些数没有出现在lst中"
   ]
  },
  {
   "cell_type": "code",
   "execution_count": null,
   "id": "5a27a61d",
   "metadata": {},
   "outputs": [],
   "source": []
  },
  {
   "cell_type": "markdown",
   "id": "03f2e83f",
   "metadata": {},
   "source": [
    "(4)产生含有1-54的整数有序列表card，然后用random.sample从中随机抽取5个数。"
   ]
  },
  {
   "cell_type": "code",
   "execution_count": null,
   "id": "6275554c",
   "metadata": {},
   "outputs": [],
   "source": [
    "# 用 random.sample 抽取\n"
   ]
  },
  {
   "cell_type": "markdown",
   "id": "0465751c",
   "metadata": {},
   "source": [
    "(5)对上面的有序列表card进行乱序( random.shuffle)"
   ]
  },
  {
   "cell_type": "code",
   "execution_count": null,
   "id": "36f7a5c5",
   "metadata": {},
   "outputs": [],
   "source": []
  },
  {
   "cell_type": "markdown",
   "id": "265054f0",
   "metadata": {},
   "source": [
    "###  10．使用for语句编写程序，计算整数1到2000的和，将结果保存在变量s中（5分）。"
   ]
  },
  {
   "cell_type": "code",
   "execution_count": null,
   "id": "83d598cf",
   "metadata": {},
   "outputs": [],
   "source": []
  },
  {
   "cell_type": "markdown",
   "id": "b513cef8",
   "metadata": {},
   "source": [
    "###  11．随机生成两个1到10000之间的整数，若这两个整数之间有素数，则输出最大的一个，否则什么都不输出。例如生成的整数是2000和1500，程序要求查找[1500,2000]间的素数，应输出1999（5分）。"
   ]
  },
  {
   "cell_type": "code",
   "execution_count": null,
   "id": "ee25bea4",
   "metadata": {},
   "outputs": [],
   "source": [
    "import random\n",
    "\n"
   ]
  },
  {
   "cell_type": "markdown",
   "id": "aac96216",
   "metadata": {},
   "source": [
    "###  12．国际象棋棋盘共有64个方格，现在第一个格子上放1颗麦粒，以后每一个格子是前一个格子麦粒数的3倍。计算放满整个棋盘需要的麦粒总数，结果存于 wheat变量（5分）。"
   ]
  },
  {
   "cell_type": "code",
   "execution_count": null,
   "id": "5b68f00e",
   "metadata": {},
   "outputs": [],
   "source": []
  },
  {
   "cell_type": "markdown",
   "id": "a17e2514",
   "metadata": {},
   "source": [
    "### 13．定义一个函数resolve(n)，函数参数为一个小于10000的正整数，获取它的各位数字，并以一个元组的形式返回（如：整数1234分解为元组(1, 2, 3, 4)）。在主程序中调用该函数（5分）。"
   ]
  },
  {
   "cell_type": "code",
   "execution_count": null,
   "id": "255326a1",
   "metadata": {},
   "outputs": [],
   "source": []
  },
  {
   "cell_type": "code",
   "execution_count": null,
   "id": "0db2d75a",
   "metadata": {},
   "outputs": [],
   "source": [
    "# 测试\n",
    "assert resolve(1234) == (1, 2, 3, 4) and resolve(456) == (4, 5, 6)"
   ]
  },
  {
   "cell_type": "markdown",
   "id": "afa41d45",
   "metadata": {},
   "source": [
    "### 14．编写一个lambda表达式，对给定的列表[1, 2, 3, 4, 5]，把它的每个元素值分别进行平方，生成一个新列表（5分）。"
   ]
  },
  {
   "cell_type": "code",
   "execution_count": null,
   "id": "91d25fdc",
   "metadata": {},
   "outputs": [],
   "source": []
  },
  {
   "cell_type": "markdown",
   "id": "d6c32fec",
   "metadata": {},
   "source": [
    "### 15.用字典存储游戏角色的属性，用随机值修改属性。(8分）\n",
    "\n",
    "构造一个字典，用于存储游戏角色的信息，除角色的姓名、性别、职业（此三项信息通过提示输入设置）外，还包括以下几类基本属性（由随机值赋值，初始数值范围为1-100）：\n",
    "\n",
    "* 生命值：表示角色的健康状况，当生命值降至零时，角色将死亡或进入濒死状态。\n",
    "* 魔法值：用于施展技能或法术的资源。\n",
    "* 攻击力：决定角色对敌人造成的伤害量。\n",
    "* 防御力：抵御敌人攻击的能力。\n",
    "* 速度：影响角色的行动顺序和频率。\n",
    "* 幸运：影响角色在游戏中遇到的各种随机事件，如暴击率和掉宝率。"
   ]
  },
  {
   "cell_type": "code",
   "execution_count": null,
   "id": "218e669a",
   "metadata": {},
   "outputs": [],
   "source": [
    "#提示用户输入游戏角色的姓名、性别、职业，使用逗号隔开（2分）\n"
   ]
  },
  {
   "cell_type": "code",
   "execution_count": null,
   "id": "4f2458f1",
   "metadata": {},
   "outputs": [],
   "source": [
    "#根据用户输入的信息设定字典的姓名、性别、职业等键的值（2分）\n"
   ]
  },
  {
   "cell_type": "code",
   "execution_count": null,
   "id": "ba30ad16",
   "metadata": {},
   "outputs": [],
   "source": [
    "#使用随机数对角色基本属性赋值（2分）\n"
   ]
  },
  {
   "cell_type": "code",
   "execution_count": null,
   "id": "2fa7d919",
   "metadata": {},
   "outputs": [],
   "source": [
    "#遍历输出所有的键值对（2分）\n"
   ]
  },
  {
   "cell_type": "markdown",
   "id": "58e48a44",
   "metadata": {},
   "source": [
    "###  16．将1至100的整数存入文件\"数据.txt\"，数据用空格分隔，每10个一行，共分10行。保存后再读此文件，数据存入data二维列表中 (5分）。"
   ]
  },
  {
   "cell_type": "code",
   "execution_count": null,
   "id": "5df91e13",
   "metadata": {},
   "outputs": [],
   "source": [
    "# 写入文件 数据.txt(3分)\n"
   ]
  },
  {
   "cell_type": "code",
   "execution_count": null,
   "id": "df6b31a4",
   "metadata": {
    "scrolled": true
   },
   "outputs": [],
   "source": [
    "# 查看文件\n",
    "!type 数据.txt"
   ]
  },
  {
   "cell_type": "code",
   "execution_count": null,
   "id": "a31c637a",
   "metadata": {},
   "outputs": [],
   "source": [
    "# 从 数据.txt 再读出数据(2分)\n"
   ]
  },
  {
   "cell_type": "markdown",
   "id": "bc22572e",
   "metadata": {},
   "source": [
    "###  17．有一个工作簿文件“data/学生成绩.xlsx”，第一列为学生姓名，第二列到第四列分别是学生的三门课的成绩。编写程序计算每名学生的总分，并输出成绩前三名的学生姓名 (5分）。"
   ]
  },
  {
   "cell_type": "code",
   "execution_count": null,
   "id": "2b6d4662",
   "metadata": {},
   "outputs": [],
   "source": [
    "# openpyxl库在ananconda中已包含\n",
    "# 程序可以只从excel文件读数据，在python程序中计算总分, 可以不用将总分填入excel文件\n",
    "from openpyxl import Workbook,load_workbook\n",
    "\n"
   ]
  },
  {
   "cell_type": "code",
   "execution_count": null,
   "id": "f8bc73b1",
   "metadata": {},
   "outputs": [],
   "source": []
  },
  {
   "cell_type": "markdown",
   "id": "81479977",
   "metadata": {},
   "source": [
    "### 18.根据中文段落生成词云（7分）。"
   ]
  },
  {
   "cell_type": "code",
   "execution_count": 20,
   "id": "94587903",
   "metadata": {},
   "outputs": [],
   "source": [
    "string = '''编写程序就是用计算机语言实现算法的过程。可以证明，任何问题都可以由三种基本结构表达出来。这三种基本结构包括顺序结构、选择结构和循环结构。'''\n",
    "# 先分词（1分）\n",
    "\n",
    "# 用空格将中文词汇连接为字符串,以满足wc的格式要求（1分）\n",
    "\n",
    "# 创建词云对象，指定中文楷体（font_path='simkai.ttf'），背景白色，词云图宽度500，高度400（1分）\n",
    "\n",
    "# 生成词云（1分）\n",
    "\n",
    "# 保存为图片文件wc.png（1分）\n",
    "\n",
    "# 在本页面显示图片（2分）\n"
   ]
  },
  {
   "attachments": {},
   "cell_type": "markdown",
   "id": "8e329b6d",
   "metadata": {},
   "source": [
    "### 19.通过pandas读取2008.1月-2019.8月电影月票房榜数据（boxmonth.xlsx）如下，完成相应统计。数据按月组织，每月11条数据（当月前10的电影，除了前10以外“其他”电影票房之和)(10分）。"
   ]
  },
  {
   "cell_type": "code",
   "execution_count": null,
   "id": "df71fea8",
   "metadata": {},
   "outputs": [],
   "source": [
    "#读取2008.1月-2019.8月电影月票房榜数据（boxmonth.xlsx）(1分)\n",
    "\n",
    "# 计算总票房(万元)，总观影人数(1分)\n"
   ]
  },
  {
   "cell_type": "code",
   "execution_count": null,
   "id": "79b31fd0",
   "metadata": {},
   "outputs": [],
   "source": [
    "# 查看2008—2019年电影十大票房排行榜(1分)\n"
   ]
  },
  {
   "cell_type": "code",
   "execution_count": null,
   "id": "4329fa1e",
   "metadata": {},
   "outputs": [],
   "source": [
    "# 由于2019年月份数据不全，排除2019年数据(1分),  后续只统计2008—2018年的数据。\n"
   ]
  },
  {
   "cell_type": "code",
   "execution_count": null,
   "id": "cc29215d",
   "metadata": {},
   "outputs": [],
   "source": [
    "# 统计年度票房和月度票房，然后绘制对比图形。\n",
    "# 年度票房(1分)\n",
    "\n",
    "# 绘制年度票房图(1分)\n",
    "\n",
    "# 月度票房(1分)\n",
    "\n",
    "# 绘制月度票房图(1分)\n"
   ]
  },
  {
   "cell_type": "code",
   "execution_count": null,
   "id": "a1b8a6ed",
   "metadata": {},
   "outputs": [],
   "source": [
    "# 按年度统计观影人数, 降序排列(1分)\n"
   ]
  },
  {
   "cell_type": "code",
   "execution_count": null,
   "id": "2ed829e8",
   "metadata": {},
   "outputs": [],
   "source": [
    "# 计算年度人均票价“年度总票房（万元人民币）/观影人数”，保留1位小数(1分)\n"
   ]
  }
 ],
 "metadata": {
  "kernelspec": {
   "display_name": "Python 3 (ipykernel)",
   "language": "python",
   "name": "python3"
  },
  "language_info": {
   "codemirror_mode": {
    "name": "ipython",
    "version": 3
   },
   "file_extension": ".py",
   "mimetype": "text/x-python",
   "name": "python",
   "nbconvert_exporter": "python",
   "pygments_lexer": "ipython3",
   "version": "3.11.4"
  }
 },
 "nbformat": 4,
 "nbformat_minor": 5
}
